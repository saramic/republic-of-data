{
 "cells": [
  {
   "cell_type": "markdown",
   "metadata": {},
   "source": [
    "# What is card_types.txt?\n",
    "\n",
    "type of myki cards 74 in all\n",
    "\n",
    "## Questions?\n",
    "\n",
    "- why are there 2 concession type's? if that is what they are?\n",
    "- where is the id referenced?\n"
   ]
  },
  {
   "cell_type": "code",
   "execution_count": 8,
   "metadata": {},
   "outputs": [
    {
     "name": "stdout",
     "output_type": "stream",
     "text": [
      "id? [ 62  29  43  34  47  50  33  31  42  45  11   0   4  25  32  55  64  67\n",
      "  12  61  54  68  14  52  69  30   3  21  35  59  18  60  63  66  19  44\n",
      "  65  38   9  10  57 100  22  15   7  13  36  51  39  46  23  70  -1  27\n",
      "  16  40   6  24   5  20  49  71  56  17   8  28  37   2  53  58   1  26\n",
      "  41  48]\n",
      "name ['Pensioner Concession Card holder PC' 'Vic HCC - Sickness allowance'\n",
      " 'First Class Pass' 'PCC - Widow allowance'\n",
      " 'Victoria Police Travel Authority' 'Federal Parliamentarian Travel Pass '\n",
      " 'Vic HCC - Widow allowance' 'Vic HCC - Special benefit'\n",
      " 'Employee Travel Pass/Redeployee Travel Pass'\n",
      " 'Retired Employee Dependent Travel Pass' 'PCC - Pensioner Age Pension'\n",
      " 'Default Full Fare' 'Child Concession 5 yrs to <= 18yrs'\n",
      " 'PCC - Vic HCC - Newstart allowance' 'PCC - Special benefit'\n",
      " 'Red Book Travel Pass' 'Employee Travel Pass' 'Asylum Seekers'\n",
      " 'HCC -  Carer Allowance (Child)' 'Health Care Card holder HC'\n",
      " 'Gold Pass Travel Pass' 'Full-fare DHS Carer Free Weekend'\n",
      " 'PCC - Disability support pension' 'Governors Travel Pass'\n",
      " 'Concession DHS Carer Free Weekend' 'PCC - Sickness allowance'\n",
      " 'General Student Concession' 'PCC - Wife Pension'\n",
      " 'PCC - Vic HCC - Youth allowance'\n",
      " 'Australian (Interstate) Seniors Card Holder (AS)'\n",
      " 'PCC - Parenting Payment Single'\n",
      " 'Bus drivers (Regional and Metropolitan (AB)'\n",
      " 'Tertiary Half Yearly Student concession' 'Wheel Chair Scooter Pass'\n",
      " 'PCC - Widow B Pension' 'Retired Employee Travel Pass' 'Commuter Club'\n",
      " 'Travel trainer Pass' 'Victorian Seniors Concession'\n",
      " 'Australian Pension Concession Card and Victorian Senior Card'\n",
      " 'Access Travel Pass (ATP)' 'Staff Card' 'PCC - Mature Age Allowance'\n",
      " 'Tertiary Student Concession' 'PCC - Carer Payment' 'DVA Pensioner'\n",
      " 'State Parliamentarian Travel Pass ' 'War Veterans Travel Pass'\n",
      " 'Federal Police Travel Pass' 'Vic HCC - Family Tax Benefit A'\n",
      " 'International Student' 'UNKNOWN' 'Vic HCC - Partner allowance'\n",
      " 'PCC - Vic HCC - Parenting Payment Partnered'\n",
      " 'TPI War Veterans Travel Pass' 'Secondary Student Concession'\n",
      " 'Vic HCC - Low Income ' 'Primary Student Concession'\n",
      " 'Victorian Black Book Travel Pass' 'Technician Validation Card'\n",
      " 'Replacement Short Term Ticket' 'PCC - Parenting Payment Partnered'\n",
      " 'War Veterans / War Widows' 'PCC - Partner allowance' 'Vision Impaired '\n",
      " 'General Concession' 'Gold Elite Travel Pass'\n",
      " 'Charitable Organisation(CO)' 'Full Fare' 'PCC - Newstart allowance'\n",
      " 'Widow of World War 1 Veteran' 'Transit Police Travel Pass']\n",
      "paid_free ['Paid' 'Free']\n",
      "concession_full_fare ['Concession' 'Full Fare']\n",
      "concession_type? ['Other Concession' 'Free Pass' 'Full Fare' 'Child' 'Seniors'\n",
      " 'International Student']\n",
      "concession_type_2? ['Other Concession' 'Other' 'Senior_Aged Pension' 'Full Fare' 'Student'\n",
      " 'Tertiary']\n"
     ]
    }
   ],
   "source": [
    "import pandas as pd\n",
    "\n",
    "calendar_df = pd.read_csv(\"../MelbDatathon2018/card_types.txt\", \n",
    "                          sep=\"|\",\n",
    "                          header=None,\n",
    "                          index_col=False,\n",
    "                          names=['id?', 'name', 'paid_free', 'concession_full_fare', 'concession_type?', 'concession_type_2?']\n",
    "                         )\n",
    "\n",
    "\n",
    "select_column_names = ['id?', 'name', 'paid_free', 'concession_full_fare', 'concession_type?', 'concession_type_2?']\n",
    "for column_name in select_column_names:\n",
    "    print(column_name, calendar_df[column_name].unique())\n"
   ]
  }
 ],
 "metadata": {
  "kernelspec": {
   "display_name": "Python 3",
   "language": "python",
   "name": "python3"
  },
  "language_info": {
   "codemirror_mode": {
    "name": "ipython",
    "version": 3
   },
   "file_extension": ".py",
   "mimetype": "text/x-python",
   "name": "python",
   "nbconvert_exporter": "python",
   "pygments_lexer": "ipython3",
   "version": "3.6.3"
  }
 },
 "nbformat": 4,
 "nbformat_minor": 2
}
