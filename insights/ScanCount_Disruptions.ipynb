{
 "cells": [
  {
   "cell_type": "markdown",
   "metadata": {},
   "source": [
    "## Analysis ScanCount for Disruptions"
   ]
  },
  {
   "cell_type": "markdown",
   "metadata": {},
   "source": [
    "Mode\n",
    "\n",
    "1 - Bus\n",
    "\n",
    "2 - Train\n",
    "\n",
    "3 - Tram"
   ]
  },
  {
   "cell_type": "code",
   "execution_count": 1,
   "metadata": {},
   "outputs": [
    {
     "name": "stdout",
     "output_type": "stream",
     "text": [
      "0.23.0\n"
     ]
    }
   ],
   "source": [
    "import pandas as pd\n",
    "import os\n",
    "\n",
    "print(pd.__version__)"
   ]
  },
  {
   "cell_type": "code",
   "execution_count": 2,
   "metadata": {},
   "outputs": [],
   "source": [
    "def load_data(the_query, the_file_dir, force_dl = False):\n",
    "    if not(os.path.isfile(the_file_dir)) or force_dl :\n",
    "        print('Loading data from BigQuery')\n",
    "        the_df = pd.read_gbq(the_query,\n",
    "                             project_id='republic-of-data-2018',\n",
    "                             private_key=\"../MelbDatathon2018/Auth/Republic of Data 2018-3f4dcd98a279.json\",\n",
    "                             dialect='standard'\n",
    "                            )\n",
    "        the_df.to_hdf(the_file_dir, key='df', mode='w')\n",
    "    else:\n",
    "        print('Loading data from local')\n",
    "        the_df = pd.read_hdf(the_file_dir)\n",
    "    return(the_df)"
   ]
  },
  {
   "cell_type": "code",
   "execution_count": 3,
   "metadata": {},
   "outputs": [
    {
     "name": "stdout",
     "output_type": "stream",
     "text": [
      "Loading data from local\n"
     ]
    }
   ],
   "source": [
    "query = \"\"\"\n",
    "SELECT\n",
    "    *\n",
    "FROM `analytics.Top_Stop_WeekdayPeak_ScanOnCount`\n",
    "\"\"\"\n",
    "\n",
    "file_name = '../MelbDatathon2018/Data/Top_Stop_WeekdayPeak_ScanOnCount.h5'\n",
    "\n",
    "df_topstop_scancount = load_data(query, file_name, force_dl=False)"
   ]
  },
  {
   "cell_type": "code",
   "execution_count": 4,
   "metadata": {},
   "outputs": [
    {
     "name": "stdout",
     "output_type": "stream",
     "text": [
      "Loading data from local\n"
     ]
    }
   ],
   "source": [
    "query = \"\"\"\n",
    "SELECT\n",
    "    Date, DayTypeCategory\n",
    "FROM `data.calendar`\n",
    "WHERE DayTypeCategory = 'Normal Weekday'\n",
    "ORDER BY Date\n",
    "\"\"\"\n",
    "\n",
    "file_name = '../MelbDatathon2018/Data/calendar.h5'\n",
    "\n",
    "df_calendar = load_data(query, file_name, force_dl=False)\n",
    "df_calendar['Date'] = pd.to_datetime(df_calendar.Date)"
   ]
  },
  {
   "cell_type": "code",
   "execution_count": 5,
   "metadata": {},
   "outputs": [
    {
     "name": "stdout",
     "output_type": "stream",
     "text": [
      "<class 'pandas.core.frame.DataFrame'>\n",
      "Int64Index: 53659 entries, 0 to 53658\n",
      "Data columns (total 4 columns):\n",
      "StopID          53659 non-null int64\n",
      "BusinessDate    53659 non-null datetime64[ns]\n",
      "ScanOnCount     53659 non-null int64\n",
      "ScanOffCount    53659 non-null int64\n",
      "dtypes: datetime64[ns](1), int64(3)\n",
      "memory usage: 2.0 MB\n"
     ]
    }
   ],
   "source": [
    "df_topstop_scancount.info()"
   ]
  },
  {
   "cell_type": "code",
   "execution_count": 6,
   "metadata": {},
   "outputs": [
    {
     "name": "stdout",
     "output_type": "stream",
     "text": [
      "<class 'pandas.core.frame.DataFrame'>\n",
      "Int64Index: 3776 entries, 0 to 3775\n",
      "Data columns (total 2 columns):\n",
      "Date               3776 non-null datetime64[ns]\n",
      "DayTypeCategory    3776 non-null object\n",
      "dtypes: datetime64[ns](1), object(1)\n",
      "memory usage: 88.5+ KB\n"
     ]
    }
   ],
   "source": [
    "df_calendar.info()"
   ]
  },
  {
   "cell_type": "code",
   "execution_count": 7,
   "metadata": {},
   "outputs": [],
   "source": [
    "df_merge = pd.merge(df_topstop_scancount, df_calendar,  how='inner', left_on=['BusinessDate'], right_on = ['Date'])"
   ]
  },
  {
   "cell_type": "code",
   "execution_count": 8,
   "metadata": {},
   "outputs": [],
   "source": [
    "list_stopid = df_merge.StopID.unique()"
   ]
  },
  {
   "cell_type": "code",
   "execution_count": 9,
   "metadata": {},
   "outputs": [],
   "source": [
    "def getIQR_upper(series):\n",
    "    return((series.describe()[6] - series.describe()[4]) * 3 + series.describe()[6])\n",
    "\n",
    "result = []\n",
    "\n",
    "for stopid in df_merge.StopID.unique():\n",
    "    df_temp = df_merge[df_merge.StopID == stopid].sort_values('BusinessDate')\n",
    "    df_temp[\"ScanOnCount_Nextday\"] = df_temp.shift(-1).ScanOnCount\n",
    "    df_temp[\"Change_pec\"] = ((df_temp.ScanOnCount_Nextday - df_temp.ScanOnCount)* 1.0)/df_temp.ScanOnCount\n",
    "    ma_limit = getIQR_upper(df_temp.Change_pec.rolling(20).mean())\n",
    "    df_temp['moving_avg'] = df_temp.Change_pec.rolling(20).mean().abs().fillna(0)\n",
    "    result.append(df_temp[df_temp.moving_avg > (ma_limit if ma_limit > 0.05 else 0.05)])"
   ]
  },
  {
   "cell_type": "code",
   "execution_count": 10,
   "metadata": {},
   "outputs": [
    {
     "data": {
      "text/plain": [
       "(2038, 9)"
      ]
     },
     "execution_count": 10,
     "metadata": {},
     "output_type": "execute_result"
    }
   ],
   "source": [
    "pd.concat(result).shape"
   ]
  },
  {
   "cell_type": "code",
   "execution_count": 11,
   "metadata": {},
   "outputs": [
    {
     "data": {
      "text/html": [
       "<div>\n",
       "<style scoped>\n",
       "    .dataframe tbody tr th:only-of-type {\n",
       "        vertical-align: middle;\n",
       "    }\n",
       "\n",
       "    .dataframe tbody tr th {\n",
       "        vertical-align: top;\n",
       "    }\n",
       "\n",
       "    .dataframe thead th {\n",
       "        text-align: right;\n",
       "    }\n",
       "</style>\n",
       "<table border=\"1\" class=\"dataframe\">\n",
       "  <thead>\n",
       "    <tr style=\"text-align: right;\">\n",
       "      <th></th>\n",
       "      <th>StopID</th>\n",
       "      <th>BusinessDate</th>\n",
       "      <th>ScanOnCount</th>\n",
       "      <th>ScanOffCount</th>\n",
       "      <th>Date</th>\n",
       "      <th>DayTypeCategory</th>\n",
       "      <th>ScanOnCount_Nextday</th>\n",
       "      <th>Change_pec</th>\n",
       "      <th>moving_avg</th>\n",
       "    </tr>\n",
       "  </thead>\n",
       "  <tbody>\n",
       "    <tr>\n",
       "      <th>11249</th>\n",
       "      <td>20004</td>\n",
       "      <td>2016-07-26</td>\n",
       "      <td>1857</td>\n",
       "      <td>138</td>\n",
       "      <td>2016-07-26</td>\n",
       "      <td>Normal Weekday</td>\n",
       "      <td>1882.0</td>\n",
       "      <td>0.013463</td>\n",
       "      <td>0.056701</td>\n",
       "    </tr>\n",
       "    <tr>\n",
       "      <th>27179</th>\n",
       "      <td>19891</td>\n",
       "      <td>2018-03-13</td>\n",
       "      <td>1807</td>\n",
       "      <td>75</td>\n",
       "      <td>2018-03-13</td>\n",
       "      <td>Normal Weekday</td>\n",
       "      <td>1737.0</td>\n",
       "      <td>-0.038738</td>\n",
       "      <td>33.017226</td>\n",
       "    </tr>\n",
       "    <tr>\n",
       "      <th>22543</th>\n",
       "      <td>19984</td>\n",
       "      <td>2018-04-26</td>\n",
       "      <td>401</td>\n",
       "      <td>81</td>\n",
       "      <td>2018-04-26</td>\n",
       "      <td>Normal Weekday</td>\n",
       "      <td>393.0</td>\n",
       "      <td>-0.019950</td>\n",
       "      <td>0.056325</td>\n",
       "    </tr>\n",
       "    <tr>\n",
       "      <th>6617</th>\n",
       "      <td>19888</td>\n",
       "      <td>2016-08-30</td>\n",
       "      <td>2461</td>\n",
       "      <td>1992</td>\n",
       "      <td>2016-08-30</td>\n",
       "      <td>Normal Weekday</td>\n",
       "      <td>2596.0</td>\n",
       "      <td>0.054856</td>\n",
       "      <td>0.051212</td>\n",
       "    </tr>\n",
       "    <tr>\n",
       "      <th>14436</th>\n",
       "      <td>19900</td>\n",
       "      <td>2017-02-23</td>\n",
       "      <td>2899</td>\n",
       "      <td>356</td>\n",
       "      <td>2017-02-23</td>\n",
       "      <td>Normal Weekday</td>\n",
       "      <td>2655.0</td>\n",
       "      <td>-0.084167</td>\n",
       "      <td>114.205475</td>\n",
       "    </tr>\n",
       "  </tbody>\n",
       "</table>\n",
       "</div>"
      ],
      "text/plain": [
       "       StopID BusinessDate  ScanOnCount  ScanOffCount       Date  \\\n",
       "11249   20004   2016-07-26         1857           138 2016-07-26   \n",
       "27179   19891   2018-03-13         1807            75 2018-03-13   \n",
       "22543   19984   2018-04-26          401            81 2018-04-26   \n",
       "6617    19888   2016-08-30         2461          1992 2016-08-30   \n",
       "14436   19900   2017-02-23         2899           356 2017-02-23   \n",
       "\n",
       "      DayTypeCategory  ScanOnCount_Nextday  Change_pec  moving_avg  \n",
       "11249  Normal Weekday               1882.0    0.013463    0.056701  \n",
       "27179  Normal Weekday               1737.0   -0.038738   33.017226  \n",
       "22543  Normal Weekday                393.0   -0.019950    0.056325  \n",
       "6617   Normal Weekday               2596.0    0.054856    0.051212  \n",
       "14436  Normal Weekday               2655.0   -0.084167  114.205475  "
      ]
     },
     "execution_count": 11,
     "metadata": {},
     "output_type": "execute_result"
    }
   ],
   "source": [
    "pd.concat(result).sample(5)"
   ]
  },
  {
   "cell_type": "code",
   "execution_count": null,
   "metadata": {},
   "outputs": [],
   "source": [
    "pd.concat(result).to_csv('output/potential_disruption_by_scancount_csv')"
   ]
  }
 ],
 "metadata": {
  "kernelspec": {
   "display_name": "Python 2",
   "language": "python",
   "name": "python2"
  },
  "language_info": {
   "codemirror_mode": {
    "name": "ipython",
    "version": 2
   },
   "file_extension": ".py",
   "mimetype": "text/x-python",
   "name": "python",
   "nbconvert_exporter": "python",
   "pygments_lexer": "ipython2",
   "version": "2.7.15"
  }
 },
 "nbformat": 4,
 "nbformat_minor": 2
}
